{
 "cells": [
  {
   "cell_type": "markdown",
   "id": "816bdfd6",
   "metadata": {},
   "source": [
    "## Bitcoin Price Prediction Using LSTM with Pytorch "
   ]
  },
  {
   "cell_type": "code",
   "execution_count": 8,
   "id": "dc3f0647",
   "metadata": {},
   "outputs": [],
   "source": [
    "import numpy as np\n",
    "import pandas as pd\n",
    "import matplotlib.pyplot as plt\n",
    "\n",
    "import torch\n",
    "import torch.nn as nn"
   ]
  },
  {
   "cell_type": "code",
   "execution_count": 10,
   "id": "b1530414",
   "metadata": {},
   "outputs": [
    {
     "data": {
      "text/html": [
       "<div>\n",
       "<style scoped>\n",
       "    .dataframe tbody tr th:only-of-type {\n",
       "        vertical-align: middle;\n",
       "    }\n",
       "\n",
       "    .dataframe tbody tr th {\n",
       "        vertical-align: top;\n",
       "    }\n",
       "\n",
       "    .dataframe thead th {\n",
       "        text-align: right;\n",
       "    }\n",
       "</style>\n",
       "<table border=\"1\" class=\"dataframe\">\n",
       "  <thead>\n",
       "    <tr style=\"text-align: right;\">\n",
       "      <th></th>\n",
       "      <th>Date</th>\n",
       "      <th>Open</th>\n",
       "      <th>High</th>\n",
       "      <th>Low</th>\n",
       "      <th>Close</th>\n",
       "      <th>Adj Close</th>\n",
       "      <th>Volume</th>\n",
       "    </tr>\n",
       "  </thead>\n",
       "  <tbody>\n",
       "    <tr>\n",
       "      <th>0</th>\n",
       "      <td>2014-09-17</td>\n",
       "      <td>465.864014</td>\n",
       "      <td>468.174011</td>\n",
       "      <td>452.421997</td>\n",
       "      <td>457.334015</td>\n",
       "      <td>457.334015</td>\n",
       "      <td>21056800</td>\n",
       "    </tr>\n",
       "    <tr>\n",
       "      <th>1</th>\n",
       "      <td>2014-09-18</td>\n",
       "      <td>456.859985</td>\n",
       "      <td>456.859985</td>\n",
       "      <td>413.104004</td>\n",
       "      <td>424.440002</td>\n",
       "      <td>424.440002</td>\n",
       "      <td>34483200</td>\n",
       "    </tr>\n",
       "    <tr>\n",
       "      <th>2</th>\n",
       "      <td>2014-09-19</td>\n",
       "      <td>424.102997</td>\n",
       "      <td>427.834991</td>\n",
       "      <td>384.532013</td>\n",
       "      <td>394.795990</td>\n",
       "      <td>394.795990</td>\n",
       "      <td>37919700</td>\n",
       "    </tr>\n",
       "    <tr>\n",
       "      <th>3</th>\n",
       "      <td>2014-09-20</td>\n",
       "      <td>394.673004</td>\n",
       "      <td>423.295990</td>\n",
       "      <td>389.882996</td>\n",
       "      <td>408.903992</td>\n",
       "      <td>408.903992</td>\n",
       "      <td>36863600</td>\n",
       "    </tr>\n",
       "    <tr>\n",
       "      <th>4</th>\n",
       "      <td>2014-09-21</td>\n",
       "      <td>408.084991</td>\n",
       "      <td>412.425995</td>\n",
       "      <td>393.181000</td>\n",
       "      <td>398.821014</td>\n",
       "      <td>398.821014</td>\n",
       "      <td>26580100</td>\n",
       "    </tr>\n",
       "  </tbody>\n",
       "</table>\n",
       "</div>"
      ],
      "text/plain": [
       "         Date        Open        High         Low       Close   Adj Close  \\\n",
       "0  2014-09-17  465.864014  468.174011  452.421997  457.334015  457.334015   \n",
       "1  2014-09-18  456.859985  456.859985  413.104004  424.440002  424.440002   \n",
       "2  2014-09-19  424.102997  427.834991  384.532013  394.795990  394.795990   \n",
       "3  2014-09-20  394.673004  423.295990  389.882996  408.903992  408.903992   \n",
       "4  2014-09-21  408.084991  412.425995  393.181000  398.821014  398.821014   \n",
       "\n",
       "     Volume  \n",
       "0  21056800  \n",
       "1  34483200  \n",
       "2  37919700  \n",
       "3  36863600  \n",
       "4  26580100  "
      ]
     },
     "execution_count": 10,
     "metadata": {},
     "output_type": "execute_result"
    }
   ],
   "source": [
    "# Loading the data\n",
    "data = pd.read_csv(\"Data/BTC-USD.csv\")\n",
    "data.head()"
   ]
  },
  {
   "cell_type": "code",
   "execution_count": 11,
   "id": "31cd4247",
   "metadata": {},
   "outputs": [],
   "source": [
    "# Convert the 'Timestamp' column to datetime\n",
    "data['Date'] = pd.to_datetime(data['Date'])"
   ]
  },
  {
   "cell_type": "code",
   "execution_count": 12,
   "id": "abade8c7",
   "metadata": {},
   "outputs": [
    {
     "data": {
      "text/html": [
       "<div>\n",
       "<style scoped>\n",
       "    .dataframe tbody tr th:only-of-type {\n",
       "        vertical-align: middle;\n",
       "    }\n",
       "\n",
       "    .dataframe tbody tr th {\n",
       "        vertical-align: top;\n",
       "    }\n",
       "\n",
       "    .dataframe thead th {\n",
       "        text-align: right;\n",
       "    }\n",
       "</style>\n",
       "<table border=\"1\" class=\"dataframe\">\n",
       "  <thead>\n",
       "    <tr style=\"text-align: right;\">\n",
       "      <th></th>\n",
       "      <th>Date</th>\n",
       "      <th>Close</th>\n",
       "    </tr>\n",
       "  </thead>\n",
       "  <tbody>\n",
       "    <tr>\n",
       "      <th>0</th>\n",
       "      <td>2014-09-17</td>\n",
       "      <td>457.334015</td>\n",
       "    </tr>\n",
       "    <tr>\n",
       "      <th>1</th>\n",
       "      <td>2014-09-18</td>\n",
       "      <td>424.440002</td>\n",
       "    </tr>\n",
       "    <tr>\n",
       "      <th>2</th>\n",
       "      <td>2014-09-19</td>\n",
       "      <td>394.795990</td>\n",
       "    </tr>\n",
       "    <tr>\n",
       "      <th>3</th>\n",
       "      <td>2014-09-20</td>\n",
       "      <td>408.903992</td>\n",
       "    </tr>\n",
       "    <tr>\n",
       "      <th>4</th>\n",
       "      <td>2014-09-21</td>\n",
       "      <td>398.821014</td>\n",
       "    </tr>\n",
       "    <tr>\n",
       "      <th>...</th>\n",
       "      <td>...</td>\n",
       "      <td>...</td>\n",
       "    </tr>\n",
       "    <tr>\n",
       "      <th>3484</th>\n",
       "      <td>2024-04-01</td>\n",
       "      <td>69702.148438</td>\n",
       "    </tr>\n",
       "    <tr>\n",
       "      <th>3485</th>\n",
       "      <td>2024-04-02</td>\n",
       "      <td>65446.972656</td>\n",
       "    </tr>\n",
       "    <tr>\n",
       "      <th>3486</th>\n",
       "      <td>2024-04-03</td>\n",
       "      <td>65980.812500</td>\n",
       "    </tr>\n",
       "    <tr>\n",
       "      <th>3487</th>\n",
       "      <td>2024-04-04</td>\n",
       "      <td>68508.843750</td>\n",
       "    </tr>\n",
       "    <tr>\n",
       "      <th>3488</th>\n",
       "      <td>2024-04-05</td>\n",
       "      <td>67837.640625</td>\n",
       "    </tr>\n",
       "  </tbody>\n",
       "</table>\n",
       "<p>3489 rows × 2 columns</p>\n",
       "</div>"
      ],
      "text/plain": [
       "           Date         Close\n",
       "0    2014-09-17    457.334015\n",
       "1    2014-09-18    424.440002\n",
       "2    2014-09-19    394.795990\n",
       "3    2014-09-20    408.903992\n",
       "4    2014-09-21    398.821014\n",
       "...         ...           ...\n",
       "3484 2024-04-01  69702.148438\n",
       "3485 2024-04-02  65446.972656\n",
       "3486 2024-04-03  65980.812500\n",
       "3487 2024-04-04  68508.843750\n",
       "3488 2024-04-05  67837.640625\n",
       "\n",
       "[3489 rows x 2 columns]"
      ]
     },
     "execution_count": 12,
     "metadata": {},
     "output_type": "execute_result"
    }
   ],
   "source": [
    "df = data[['Date','Close']]\n",
    "df"
   ]
  },
  {
   "cell_type": "code",
   "execution_count": 13,
   "id": "4a73f6c3",
   "metadata": {},
   "outputs": [
    {
     "data": {
      "image/png": "[encoded data removed]",
      "text/plain": [
       "<Figure size 1200x600 with 1 Axes>"
      ]
     },
     "metadata": {},
     "output_type": "display_data"
    }
   ],
   "source": [
    "# Plotting\n",
    "\n",
    "plt.figure(figsize=(12, 6))\n",
    "plt.plot(df[\"Date\"], df[\"Close\"])\n",
    "plt.title(\"Bitcoin Daily Price\")\n",
    "plt.xlabel(\"Date\")\n",
    "plt.ylabel(\"Price (USD)\")\n",
    "plt.show()"
   ]
  },
  {
   "cell_type": "code",
   "execution_count": 14,
   "id": "2170e5b0",
   "metadata": {},
   "outputs": [
    {
     "data": {
      "text/html": [
       "<div>\n",
       "<style scoped>\n",
       "    .dataframe tbody tr th:only-of-type {\n",
       "        vertical-align: middle;\n",
       "    }\n",
       "\n",
       "    .dataframe tbody tr th {\n",
       "        vertical-align: top;\n",
       "    }\n",
       "\n",
       "    .dataframe thead th {\n",
       "        text-align: right;\n",
       "    }\n",
       "</style>\n",
       "<table border=\"1\" class=\"dataframe\">\n",
       "  <thead>\n",
       "    <tr style=\"text-align: right;\">\n",
       "      <th></th>\n",
       "      <th>Close</th>\n",
       "      <th>Close(t-1)</th>\n",
       "      <th>Close(t-2)</th>\n",
       "      <th>Close(t-3)</th>\n",
       "      <th>Close(t-4)</th>\n",
       "      <th>Close(t-5)</th>\n",
       "      <th>Close(t-6)</th>\n",
       "      <th>Close(t-7)</th>\n",
       "    </tr>\n",
       "    <tr>\n",
       "      <th>Date</th>\n",
       "      <th></th>\n",
       "      <th></th>\n",
       "      <th></th>\n",
       "      <th></th>\n",
       "      <th></th>\n",
       "      <th></th>\n",
       "      <th></th>\n",
       "      <th></th>\n",
       "    </tr>\n",
       "  </thead>\n",
       "  <tbody>\n",
       "    <tr>\n",
       "      <th>2014-09-24</th>\n",
       "      <td>423.204987</td>\n",
       "      <td>435.790985</td>\n",
       "      <td>402.152008</td>\n",
       "      <td>398.821014</td>\n",
       "      <td>408.903992</td>\n",
       "      <td>394.795990</td>\n",
       "      <td>424.440002</td>\n",
       "      <td>457.334015</td>\n",
       "    </tr>\n",
       "    <tr>\n",
       "      <th>2014-09-25</th>\n",
       "      <td>411.574005</td>\n",
       "      <td>423.204987</td>\n",
       "      <td>435.790985</td>\n",
       "      <td>402.152008</td>\n",
       "      <td>398.821014</td>\n",
       "      <td>408.903992</td>\n",
       "      <td>394.795990</td>\n",
       "      <td>424.440002</td>\n",
       "    </tr>\n",
       "    <tr>\n",
       "      <th>2014-09-26</th>\n",
       "      <td>404.424988</td>\n",
       "      <td>411.574005</td>\n",
       "      <td>423.204987</td>\n",
       "      <td>435.790985</td>\n",
       "      <td>402.152008</td>\n",
       "      <td>398.821014</td>\n",
       "      <td>408.903992</td>\n",
       "      <td>394.795990</td>\n",
       "    </tr>\n",
       "    <tr>\n",
       "      <th>2014-09-27</th>\n",
       "      <td>399.519989</td>\n",
       "      <td>404.424988</td>\n",
       "      <td>411.574005</td>\n",
       "      <td>423.204987</td>\n",
       "      <td>435.790985</td>\n",
       "      <td>402.152008</td>\n",
       "      <td>398.821014</td>\n",
       "      <td>408.903992</td>\n",
       "    </tr>\n",
       "    <tr>\n",
       "      <th>2014-09-28</th>\n",
       "      <td>377.181000</td>\n",
       "      <td>399.519989</td>\n",
       "      <td>404.424988</td>\n",
       "      <td>411.574005</td>\n",
       "      <td>423.204987</td>\n",
       "      <td>435.790985</td>\n",
       "      <td>402.152008</td>\n",
       "      <td>398.821014</td>\n",
       "    </tr>\n",
       "    <tr>\n",
       "      <th>...</th>\n",
       "      <td>...</td>\n",
       "      <td>...</td>\n",
       "      <td>...</td>\n",
       "      <td>...</td>\n",
       "      <td>...</td>\n",
       "      <td>...</td>\n",
       "      <td>...</td>\n",
       "      <td>...</td>\n",
       "    </tr>\n",
       "    <tr>\n",
       "      <th>2024-04-01</th>\n",
       "      <td>69702.148438</td>\n",
       "      <td>71333.648438</td>\n",
       "      <td>69645.304688</td>\n",
       "      <td>69892.828125</td>\n",
       "      <td>70744.953125</td>\n",
       "      <td>69455.343750</td>\n",
       "      <td>69987.835938</td>\n",
       "      <td>69958.812500</td>\n",
       "    </tr>\n",
       "    <tr>\n",
       "      <th>2024-04-02</th>\n",
       "      <td>65446.972656</td>\n",
       "      <td>69702.148438</td>\n",
       "      <td>71333.648438</td>\n",
       "      <td>69645.304688</td>\n",
       "      <td>69892.828125</td>\n",
       "      <td>70744.953125</td>\n",
       "      <td>69455.343750</td>\n",
       "      <td>69987.835938</td>\n",
       "    </tr>\n",
       "    <tr>\n",
       "      <th>2024-04-03</th>\n",
       "      <td>65980.812500</td>\n",
       "      <td>65446.972656</td>\n",
       "      <td>69702.148438</td>\n",
       "      <td>71333.648438</td>\n",
       "      <td>69645.304688</td>\n",
       "      <td>69892.828125</td>\n",
       "      <td>70744.953125</td>\n",
       "      <td>69455.343750</td>\n",
       "    </tr>\n",
       "    <tr>\n",
       "      <th>2024-04-04</th>\n",
       "      <td>68508.843750</td>\n",
       "      <td>65980.812500</td>\n",
       "      <td>65446.972656</td>\n",
       "      <td>69702.148438</td>\n",
       "      <td>71333.648438</td>\n",
       "      <td>69645.304688</td>\n",
       "      <td>69892.828125</td>\n",
       "      <td>70744.953125</td>\n",
       "    </tr>\n",
       "    <tr>\n",
       "      <th>2024-04-05</th>\n",
       "      <td>67837.640625</td>\n",
       "      <td>68508.843750</td>\n",
       "      <td>65980.812500</td>\n",
       "      <td>65446.972656</td>\n",
       "      <td>69702.148438</td>\n",
       "      <td>71333.648438</td>\n",
       "      <td>69645.304688</td>\n",
       "      <td>69892.828125</td>\n",
       "    </tr>\n",
       "  </tbody>\n",
       "</table>\n",
       "<p>3482 rows × 8 columns</p>\n",
       "</div>"
      ],
      "text/plain": [
       "                   Close    Close(t-1)    Close(t-2)    Close(t-3)  \\\n",
       "Date                                                                 \n",
       "2014-09-24    423.204987    435.790985    402.152008    398.821014   \n",
       "2014-09-25    411.574005    423.204987    435.790985    402.152008   \n",
       "2014-09-26    404.424988    411.574005    423.204987    435.790985   \n",
       "2014-09-27    399.519989    404.424988    411.574005    423.204987   \n",
       "2014-09-28    377.181000    399.519989    404.424988    411.574005   \n",
       "...                  ...           ...           ...           ...   \n",
       "2024-04-01  69702.148438  71333.648438  69645.304688  69892.828125   \n",
       "2024-04-02  65446.972656  69702.148438  71333.648438  69645.304688   \n",
       "2024-04-03  65980.812500  65446.972656  69702.148438  71333.648438   \n",
       "2024-04-04  68508.843750  65980.812500  65446.972656  69702.148438   \n",
       "2024-04-05  67837.640625  68508.843750  65980.812500  65446.972656   \n",
       "\n",
       "              Close(t-4)    Close(t-5)    Close(t-6)    Close(t-7)  \n",
       "Date                                                                \n",
       "2014-09-24    408.903992    394.795990    424.440002    457.334015  \n",
       "2014-09-25    398.821014    408.903992    394.795990    424.440002  \n",
       "2014-09-26    402.152008    398.821014    408.903992    394.795990  \n",
       "2014-09-27    435.790985    402.152008    398.821014    408.903992  \n",
       "2014-09-28    423.204987    435.790985    402.152008    398.821014  \n",
       "...                  ...           ...           ...           ...  \n",
       "2024-04-01  70744.953125  69455.343750  69987.835938  69958.812500  \n",
       "2024-04-02  69892.828125  70744.953125  69455.343750  69987.835938  \n",
       "2024-04-03  69645.304688  69892.828125  70744.953125  69455.343750  \n",
       "2024-04-04  71333.648438  69645.304688  69892.828125  70744.953125  \n",
       "2024-04-05  69702.148438  71333.648438  69645.304688  69892.828125  \n",
       "\n",
       "[3482 rows x 8 columns]"
      ]
     },
     "execution_count": 14,
     "metadata": {},
     "output_type": "execute_result"
    }
   ],
   "source": [
    "from copy import deepcopy as dc\n",
    "\n",
    "def prepare_df_for_lstm(df, n_steps):\n",
    "    df = dc(df)\n",
    "    \n",
    "    df.set_index('Date', inplace=True)\n",
    "    \n",
    "    for i in range(1, n_steps+1):\n",
    "        df[f'Close(t-{i})'] = df['Close'].shift(i)\n",
    "        \n",
    "    df.dropna(inplace=True)\n",
    "    \n",
    "    return df\n",
    "\n",
    "lookback = 7\n",
    "shifted_df = prepare_df_for_lstm(df, lookback)\n",
    "shifted_df\n",
    "    "
   ]
  },
  {
   "cell_type": "code",
   "execution_count": 15,
   "id": "8c14d326",
   "metadata": {},
   "outputs": [
    {
     "data": {
      "text/plain": [
       "array([[  423.204987,   435.790985,   402.152008, ...,   394.79599 ,\n",
       "          424.440002,   457.334015],\n",
       "       [  411.574005,   423.204987,   435.790985, ...,   408.903992,\n",
       "          394.79599 ,   424.440002],\n",
       "       [  404.424988,   411.574005,   423.204987, ...,   398.821014,\n",
       "          408.903992,   394.79599 ],\n",
       "       ...,\n",
       "       [65980.8125  , 65446.972656, 69702.148438, ..., 69892.828125,\n",
       "        70744.953125, 69455.34375 ],\n",
       "       [68508.84375 , 65980.8125  , 65446.972656, ..., 69645.304688,\n",
       "        69892.828125, 70744.953125],\n",
       "       [67837.640625, 68508.84375 , 65980.8125  , ..., 71333.648438,\n",
       "        69645.304688, 69892.828125]])"
      ]
     },
     "execution_count": 15,
     "metadata": {},
     "output_type": "execute_result"
    }
   ],
   "source": [
    "shifted_df_to_np = shifted_df.to_numpy()\n",
    "\n",
    "shifted_df_to_np"
   ]
  },
  {
   "cell_type": "code",
   "execution_count": 16,
   "id": "843d53fd",
   "metadata": {},
   "outputs": [
    {
     "data": {
      "text/plain": [
       "array([[-0.99327616, -0.99293089, -0.99385371, ..., -0.9940555 ,\n",
       "        -0.99324228, -0.99233991],\n",
       "       [-0.99359523, -0.99327616, -0.99293089, ..., -0.99366848,\n",
       "        -0.9940555 , -0.99324228],\n",
       "       [-0.99379135, -0.99359523, -0.99327616, ..., -0.99394508,\n",
       "        -0.99366848, -0.9940555 ],\n",
       "       ...,\n",
       "       [ 0.80515331,  0.79050859,  0.90724002, ...,  0.9124709 ,\n",
       "         0.93584708,  0.90046947],\n",
       "       [ 0.87450432,  0.80515331,  0.79050859, ...,  0.90568064,\n",
       "         0.9124709 ,  0.93584708],\n",
       "       [ 0.85609133,  0.87450432,  0.80515331, ...,  0.95199665,\n",
       "         0.90568064,  0.9124709 ]])"
      ]
     },
     "execution_count": 16,
     "metadata": {},
     "output_type": "execute_result"
    }
   ],
   "source": [
    "from sklearn.preprocessing import MinMaxScaler\n",
    "\n",
    "scaler = MinMaxScaler(feature_range=(-1,1))\n",
    "shifted_df_to_np = scaler.fit_transform(shifted_df_to_np)\n",
    "\n",
    "shifted_df_to_np"
   ]
  },
  {
   "cell_type": "code",
   "execution_count": 17,
   "id": "494cacac",
   "metadata": {},
   "outputs": [
    {
     "data": {
      "text/plain": [
       "((3482, 7), (3482,))"
      ]
     },
     "execution_count": 17,
     "metadata": {},
     "output_type": "execute_result"
    }
   ],
   "source": [
    "X = shifted_df_to_np[:,1:]\n",
    "y = shifted_df_to_np[:,0]\n",
    "X.shape, y.shape"
   ]
  },
  {
   "cell_type": "code",
   "execution_count": 18,
   "id": "54e462a0",
   "metadata": {},
   "outputs": [
    {
     "data": {
      "text/plain": [
       "array([[-0.99233991, -0.99324228, -0.9940555 , ..., -0.99394508,\n",
       "        -0.99385371, -0.99293089],\n",
       "       [-0.99324228, -0.9940555 , -0.99366848, ..., -0.99385371,\n",
       "        -0.99293089, -0.99327616],\n",
       "       [-0.9940555 , -0.99366848, -0.99394508, ..., -0.99293089,\n",
       "        -0.99327616, -0.99359523],\n",
       "       ...,\n",
       "       [ 0.90046947,  0.93584708,  0.9124709 , ...,  0.95199665,\n",
       "         0.90724002,  0.79050859],\n",
       "       [ 0.93584708,  0.9124709 ,  0.90568064, ...,  0.90724002,\n",
       "         0.79050859,  0.80515331],\n",
       "       [ 0.9124709 ,  0.90568064,  0.95199665, ...,  0.79050859,\n",
       "         0.80515331,  0.87450432]])"
      ]
     },
     "execution_count": 18,
     "metadata": {},
     "output_type": "execute_result"
    }
   ],
   "source": [
    "X = dc(np.flip(X, axis=1))\n",
    "X"
   ]
  },
  {
   "cell_type": "code",
   "execution_count": 19,
   "id": "61b9463d",
   "metadata": {},
   "outputs": [
    {
     "data": {
      "text/plain": [
       "3307"
      ]
     },
     "execution_count": 19,
     "metadata": {},
     "output_type": "execute_result"
    }
   ],
   "source": [
    "split_index = int(len(X) * 0.95)\n",
    "\n",
    "split_index"
   ]
  },
  {
   "cell_type": "code",
   "execution_count": 21,
   "id": "f7038f19",
   "metadata": {},
   "outputs": [
    {
     "data": {
      "text/plain": [
       "((3307, 7), (175, 7), (3307,), (175,))"
      ]
     },
     "execution_count": 21,
     "metadata": {},
     "output_type": "execute_result"
    }
   ],
   "source": [
    "# Data split\n",
    "split = int(0.95 * len(X))\n",
    "X_train, X_test = X[:split], X[split:]\n",
    "y_train, y_test = y[:split], y[split:]\n",
    "\n",
    "X_train.shape, X_test.shape, y_train.shape, y_test.shape"
   ]
  },
  {
   "cell_type": "code",
   "execution_count": 22,
   "id": "5e37dff0",
   "metadata": {},
   "outputs": [
    {
     "data": {
      "text/plain": [
       "((3307, 7, 1), (175, 7, 1), (3307, 1), (175, 1))"
      ]
     },
     "execution_count": 22,
     "metadata": {},
     "output_type": "execute_result"
    }
   ],
   "source": [
    "# Preparing the data for LSTM model\n",
    "X_train = X_train.reshape((-1, lookback, 1))\n",
    "X_test = X_test.reshape((-1, lookback, 1))\n",
    "\n",
    "y_train = y_train.reshape((-1,1))\n",
    "y_test = y_test.reshape((-1,1))\n",
    "\n",
    "X_train.shape, X_test.shape, y_train.shape, y_test.shape"
   ]
  },
  {
   "cell_type": "code",
   "execution_count": 23,
   "id": "27a9f714",
   "metadata": {},
   "outputs": [
    {
     "data": {
      "text/plain": [
       "(torch.Size([3307, 7, 1]),\n",
       " torch.Size([175, 7, 1]),\n",
       " torch.Size([3307, 1]),\n",
       " torch.Size([175, 1]))"
      ]
     },
     "execution_count": 23,
     "metadata": {},
     "output_type": "execute_result"
    }
   ],
   "source": [
    "# To Pytorch tensors\n",
    "X_train = torch.tensor(X_train).float()\n",
    "y_train = torch.tensor(y_train).float()\n",
    "X_test = torch.tensor(X_test).float()\n",
    "y_test = torch.tensor(y_test).float()\n",
    "\n",
    "X_train.shape, X_test.shape, y_train.shape, y_test.shape"
   ]
  },
  {
   "cell_type": "code",
   "execution_count": 45,
   "id": "5131b5b4",
   "metadata": {},
   "outputs": [],
   "source": [
    "from torch.utils.data import Dataset\n",
    "\n",
    "class TImeSeriesDataset(Dataset):\n",
    "    def __init__(self, X, y):\n",
    "        self.X = X\n",
    "        self.y = y\n",
    "    \n",
    "    def __len__(self):\n",
    "        return len(self.X)\n",
    "    \n",
    "    def __getitem__(self, i):\n",
    "        return self.X[i], self.y[i]\n",
    "    \n",
    "train_dataset = TImeSeriesDataset(X_train, y_train)\n",
    "test_dataset = TImeSeriesDataset(X_test, y_test)"
   ]
  },
  {
   "cell_type": "code",
   "execution_count": 46,
   "id": "b7bcdc9c",
   "metadata": {},
   "outputs": [
    {
     "data": {
      "text/plain": [
       "<__main__.TImeSeriesDataset at 0x28b49cb50>"
      ]
     },
     "execution_count": 46,
     "metadata": {},
     "output_type": "execute_result"
    }
   ],
   "source": [
    "train_dataset"
   ]
  },
  {
   "cell_type": "code",
   "execution_count": 47,
   "id": "d5540fe2",
   "metadata": {},
   "outputs": [],
   "source": [
    "from torch.utils.data import DataLoader\n",
    "\n",
    "batch_size = 16\n",
    "\n",
    "train_loader = DataLoader(train_dataset, batch_size=batch_size, shuffle=True)\n",
    "test_loader = DataLoader(test_dataset, batch_size=batch_size, shuffle=False)\n"
   ]
  },
  {
   "cell_type": "code",
   "execution_count": 48,
   "id": "24d154e9",
   "metadata": {},
   "outputs": [],
   "source": [
    "# Checks if CUDA is available and uses it if possible, otherwise uses CPU\n",
    "device = torch.device(\"cuda\" if torch.cuda.is_available() else \"cpu\")"
   ]
  },
  {
   "cell_type": "code",
   "execution_count": 49,
   "id": "db46e8ec",
   "metadata": {},
   "outputs": [
    {
     "name": "stdout",
     "output_type": "stream",
     "text": [
      "torch.Size([16, 7, 1]) torch.Size([16, 1])\n"
     ]
    }
   ],
   "source": [
    "for _, batch in enumerate(train_loader):\n",
    "    x_batch, y_batch = batch[0].to(device), batch[1].to(device)\n",
    "    print(x_batch.shape, y_batch.shape)\n",
    "    break"
   ]
  },
  {
   "cell_type": "code",
   "execution_count": 50,
   "id": "9dcaab7c",
   "metadata": {},
   "outputs": [
    {
     "data": {
      "text/plain": [
       "LSTM(\n",
       "  (lstm): LSTM(1, 4, batch_first=True)\n",
       "  (fc): Linear(in_features=4, out_features=1, bias=True)\n",
       ")"
      ]
     },
     "execution_count": 50,
     "metadata": {},
     "output_type": "execute_result"
    }
   ],
   "source": [
    "# Model build\n",
    "\n",
    "class LSTM(nn.Module):\n",
    "    def __init__(self, input_size, hidden_size, num_stacked_layers):\n",
    "        super().__init__()\n",
    "        self.hidden_size = hidden_size\n",
    "        self.num_stacked_layers = num_stacked_layers\n",
    "        \n",
    "        self.lstm = nn.LSTM(input_size, hidden_size, num_stacked_layers,\n",
    "                            batch_first=True)\n",
    "        \n",
    "        self.fc = nn.Linear(hidden_size, 1)\n",
    "        \n",
    "    def forward(self, x):\n",
    "        batch_size = x.size(0)\n",
    "        h0 = torch.zeros(self.num_stacked_layers, batch_size, self.hidden_size).to(device)\n",
    "        c0 = torch.zeros(self.num_stacked_layers, batch_size, self.hidden_size).to(device)\n",
    "        out, _ = self.lstm(x,(h0, c0))\n",
    "        out = self.fc(out[:,-1, :])\n",
    "        return out\n",
    "    \n",
    "model = LSTM(1, 4, 1)\n",
    "model.to(device)\n",
    "model"
   ]
  },
  {
   "cell_type": "code",
   "execution_count": 52,
   "id": "1c1ef08c",
   "metadata": {},
   "outputs": [],
   "source": [
    "def train_one_epoch():\n",
    "    model.train(True)\n",
    "    print(f'Epoch: {epoch + 1}')\n",
    "    running_loss = 0.0\n",
    "    \n",
    "    for batch_index, batch in enumerate(train_loader):\n",
    "        x_batch, y_batch = batch[0].to(device), batch[1].to(device)\n",
    "        \n",
    "        output = model(x_batch)\n",
    "        loss = loss_function(output, y_batch)\n",
    "        running_loss += loss.item()\n",
    "        \n",
    "        optimizer.zero_grad()\n",
    "        loss.backward()\n",
    "        optimizer.step()\n",
    "        \n",
    "        if batch_index % 100 ==9: \n",
    "            avg_loss_across_batches = running_loss / 100\n",
    "            print('Batch {0}, loss:{1:.3f}'.format(batch_index+1,\n",
    "                                                   avg_loss_across_batches))\n",
    "            running_loss = 0.0\n",
    "    print()\n",
    "    "
   ]
  },
  {
   "cell_type": "code",
   "execution_count": 54,
   "id": "2768eb2f",
   "metadata": {},
   "outputs": [],
   "source": [
    "# Validation function\n",
    "def validate_one_epoch():\n",
    "    model.train(False)\n",
    "    running_loss = 0.0\n",
    "    \n",
    "    for batch_index, batch in enumerate(test_loader):\n",
    "        x_batch, y_batch = batch[0].to(device), batch[1].to(device)\n",
    "        \n",
    "        with torch.no_grad():\n",
    "            output = model(x_batch)\n",
    "            loss = loss_function(output, y_batch)\n",
    "            running_loss += loss.item()\n",
    "    \n",
    "    avg_loss_across_batches = running_loss / len(test_loader)\n",
    "    \n",
    "    print('Val Loss: {0:.3f}'.format(avg_loss_across_batches))\n",
    "    print('****************************************************')\n",
    "    print()\n"
   ]
  },
  {
   "cell_type": "code",
   "execution_count": 55,
   "id": "b5cd0e10",
   "metadata": {},
   "outputs": [
    {
     "name": "stdout",
     "output_type": "stream",
     "text": [
      "Epoch: 1\n",
      "Batch 10, loss:0.097\n",
      "Batch 110, loss:0.691\n",
      "\n",
      "Val Loss: 0.314\n",
      "****************************************************\n",
      "\n",
      "Epoch: 2\n",
      "Batch 10, loss:0.019\n",
      "Batch 110, loss:0.137\n",
      "\n",
      "Val Loss: 0.207\n",
      "****************************************************\n",
      "\n",
      "Epoch: 3\n",
      "Batch 10, loss:0.004\n",
      "Batch 110, loss:0.016\n",
      "\n",
      "Val Loss: 0.085\n",
      "****************************************************\n",
      "\n",
      "Epoch: 4\n",
      "Batch 10, loss:0.001\n",
      "Batch 110, loss:0.007\n",
      "\n",
      "Val Loss: 0.067\n",
      "****************************************************\n",
      "\n",
      "Epoch: 5\n",
      "Batch 10, loss:0.001\n",
      "Batch 110, loss:0.006\n",
      "\n",
      "Val Loss: 0.052\n",
      "****************************************************\n",
      "\n",
      "Epoch: 6\n",
      "Batch 10, loss:0.001\n",
      "Batch 110, loss:0.005\n",
      "\n",
      "Val Loss: 0.042\n",
      "****************************************************\n",
      "\n",
      "Epoch: 7\n",
      "Batch 10, loss:0.000\n",
      "Batch 110, loss:0.004\n",
      "\n",
      "Val Loss: 0.034\n",
      "****************************************************\n",
      "\n",
      "Epoch: 8\n",
      "Batch 10, loss:0.000\n",
      "Batch 110, loss:0.003\n",
      "\n",
      "Val Loss: 0.027\n",
      "****************************************************\n",
      "\n",
      "Epoch: 9\n",
      "Batch 10, loss:0.000\n",
      "Batch 110, loss:0.002\n",
      "\n",
      "Val Loss: 0.021\n",
      "****************************************************\n",
      "\n",
      "Epoch: 10\n",
      "Batch 10, loss:0.000\n",
      "Batch 110, loss:0.002\n",
      "\n",
      "Val Loss: 0.016\n",
      "****************************************************\n",
      "\n"
     ]
    }
   ],
   "source": [
    "# Initialize the model\n",
    "\n",
    "learning_rate = 0.001\n",
    "num_epochs = 10\n",
    "loss_function = nn.MSELoss()\n",
    "optimizer = torch.optim.Adam(model.parameters(), lr=learning_rate)\n",
    "\n",
    "for epoch in range(num_epochs):\n",
    "    train_one_epoch()\n",
    "    validate_one_epoch()\n",
    "    "
   ]
  },
  {
   "cell_type": "code",
   "execution_count": 56,
   "id": "6bf1fa4d",
   "metadata": {},
   "outputs": [
    {
     "data": {
      "image/png": "[encoded data removed]",
      "text/plain": [
       "<Figure size 640x480 with 1 Axes>"
      ]
     },
     "metadata": {},
     "output_type": "display_data"
    }
   ],
   "source": [
    "with torch.no_grad():\n",
    "    predicted = model(X_train.to(device)).to('cpu').numpy()\n",
    "    \n",
    "plt.plot(y_train, label='Actual Close')\n",
    "plt.plot(predicted, label='Predicted Close')\n",
    "plt.xlabel('Day')\n",
    "plt.ylabel('Close')\n",
    "plt.legend()\n",
    "plt.show()\n"
   ]
  },
  {
   "cell_type": "code",
   "execution_count": 57,
   "id": "1d72e0e4",
   "metadata": {},
   "outputs": [
    {
     "data": {
      "text/plain": [
       "array([ 1067.56172398,  1067.56172398,  1066.05818088, ...,\n",
       "       28540.50549552, 28288.80977319, 28093.34699737])"
      ]
     },
     "execution_count": 57,
     "metadata": {},
     "output_type": "execute_result"
    }
   ],
   "source": [
    "train_predictions = predicted.flatten()\n",
    "\n",
    "dummies = np.zeros((X_train.shape[0], lookback+1))\n",
    "dummies[:, 0] = train_predictions\n",
    "dummies = scaler.inverse_transform(dummies)\n",
    "\n",
    "train_predictions = dc(dummies[:, 0])\n",
    "train_predictions"
   ]
  },
  {
   "cell_type": "code",
   "execution_count": 58,
   "id": "496c5961",
   "metadata": {},
   "outputs": [
    {
     "data": {
      "text/plain": [
       "array([  423.20442264,   411.57369111,   404.42534313, ...,\n",
       "       26873.32063142, 26756.79930025, 26862.37540256])"
      ]
     },
     "execution_count": 58,
     "metadata": {},
     "output_type": "execute_result"
    }
   ],
   "source": [
    "dummies = np.zeros((X_train.shape[0], lookback+1))\n",
    "dummies[:, 0] = y_train.flatten()\n",
    "dummies = scaler.inverse_transform(dummies)\n",
    "\n",
    "new_y_train = dc(dummies[:, 0])\n",
    "new_y_train"
   ]
  },
  {
   "cell_type": "code",
   "execution_count": 59,
   "id": "4d180ade",
   "metadata": {},
   "outputs": [
    {
     "data": {
      "image/png": "[encoded data removed]",
      "text/plain": [
       "<Figure size 640x480 with 1 Axes>"
      ]
     },
     "metadata": {},
     "output_type": "display_data"
    }
   ],
   "source": [
    "plt.plot(new_y_train, label='Actual Close')\n",
    "plt.plot(train_predictions, label='Predicted Close')\n",
    "plt.xlabel('Day')\n",
    "plt.ylabel('Close')\n",
    "plt.legend()\n",
    "plt.show()"
   ]
  },
  {
   "cell_type": "code",
   "execution_count": 60,
   "id": "4fbac537",
   "metadata": {},
   "outputs": [
    {
     "data": {
      "text/plain": [
       "array([27964.18895136, 27859.59384574, 27881.28223769, 28351.72501277,\n",
       "       28624.78973278, 28826.31013601, 29117.12296558, 29633.15981609,\n",
       "       30056.56472327, 30373.85034061, 31548.75194518, 32553.62634509,\n",
       "       33455.72830516, 33986.93475399, 34301.18666894, 34606.31004575,\n",
       "       34959.66874738, 35080.71754666, 35191.16006611, 35478.70888177,\n",
       "       35528.28234909, 35537.46221845, 35653.34041558, 35700.78730369,\n",
       "       35735.41931144, 35874.14098881, 35997.60968857, 36410.01151742,\n",
       "       36867.2407125 , 37127.14943038, 37318.39625613, 37314.99861809,\n",
       "       37042.53602147, 37552.24256443, 37283.72106497, 37257.70238198,\n",
       "       37222.71268524, 37437.53167732, 37618.61980977, 37296.10791355,\n",
       "       37514.25610204, 37635.79621445, 37841.84897448, 37999.79786107,\n",
       "       37996.14573967, 37951.61087994, 38158.97761062, 38234.11456977,\n",
       "       38251.9468734 , 38536.04644821, 38936.99869858, 39373.34341926,\n",
       "       40267.09305618, 41443.00634753, 42216.14798185, 42775.54749338,\n",
       "       43478.19968112, 43879.1253153 , 44213.81900681, 43650.78013878,\n",
       "       43222.12043537, 43267.7753478 , 43276.98563566, 42921.43462914,\n",
       "       42800.28208104, 42471.29403141, 42733.66556158, 42759.65599882,\n",
       "       43090.25948818, 43362.53332713, 43684.80757881, 43879.50120108,\n",
       "       43911.07669256, 44063.44840113, 43867.81289167, 43911.68614898,\n",
       "       43660.86930408, 43338.13225663, 43131.31794767, 43021.47456408,\n",
       "       43415.5516898 , 43919.33097037, 43692.32746706, 44037.40799064,\n",
       "       44300.0804467 , 44470.94551813, 44580.9290441 , 45353.46339476,\n",
       "       45620.10763809, 46153.36679262, 46449.20193416, 45806.52308231,\n",
       "       45421.14782091, 44741.70277748, 44175.25486448, 43872.51255023,\n",
       "       43450.86539792, 42778.74795435, 42610.69659436, 42475.38423356,\n",
       "       42373.38339162, 41667.33736816, 41249.85429149, 40992.88258862,\n",
       "       40800.68980177, 41154.73943794, 41431.91554441, 41646.18673187,\n",
       "       42283.57928261, 42649.36176957, 42868.25439658, 43206.0985758 ,\n",
       "       43384.52373135, 43457.56072749, 43409.24310976, 43337.27184757,\n",
       "       43413.56688255, 43807.24856775, 44310.14571175, 45178.00621591,\n",
       "       46019.94037895, 46895.14695135, 48052.09729421, 48887.1655668 ,\n",
       "       50011.57463074, 50807.54969634, 51406.86045529, 51760.80362671,\n",
       "       52132.49925318, 52264.42212376, 52479.41031876, 52441.12102932,\n",
       "       52316.20853709, 52109.07592024, 52144.01808808, 52138.78610573,\n",
       "       52686.70154637, 53470.90573806, 54891.75396806, 55599.17316962,\n",
       "       56353.10226078, 56786.52028701, 57220.7639583 , 57928.70679264,\n",
       "       57836.70386049, 58066.64166286, 58247.19937268, 58462.33422832,\n",
       "       58600.80359508, 58725.06534864, 58992.44832702, 59097.26613953,\n",
       "       59279.19920019, 59267.25559264, 59160.89512753, 58824.61858754,\n",
       "       58896.81038387, 58786.98003678, 58258.24346167, 58507.18413682,\n",
       "       58328.31682661, 58129.74484533, 58074.02032235, 58273.06161766,\n",
       "       58556.52729262, 58732.60044614, 58790.61070227, 58957.64738794,\n",
       "       59000.56354881, 59031.46005588, 59151.97164268, 59080.21222364,\n",
       "       58753.6869863 , 58654.76601769, 58746.32570881])"
      ]
     },
     "execution_count": 60,
     "metadata": {},
     "output_type": "execute_result"
    }
   ],
   "source": [
    "# Test on the test sets\n",
    "\n",
    "test_predictions = model(X_test.to(device)).detach().cpu().numpy().flatten()\n",
    "\n",
    "dummies = np.zeros((X_test.shape[0], lookback+1))\n",
    "dummies[:, 0] = test_predictions\n",
    "dummies = scaler.inverse_transform(dummies)\n",
    "\n",
    "test_predictions = dc(dummies[:, 0])\n",
    "test_predictions"
   ]
  },
  {
   "cell_type": "code",
   "execution_count": 61,
   "id": "9d70b020",
   "metadata": {},
   "outputs": [
    {
     "data": {
      "text/plain": [
       "array([26861.70728189, 27159.65216381, 28519.46675587, 28415.74781174,\n",
       "       28328.34187571, 28719.80681257, 29682.94947204, 29918.41203485,\n",
       "       29993.89663402, 33086.23448936, 33901.5274765 , 34502.82032677,\n",
       "       34156.64853943, 33909.80076587, 34089.57411289, 34538.48045273,\n",
       "       34502.36323446, 34667.78122127, 35437.25389538, 34938.24217182,\n",
       "       34732.3242581 , 35082.19528835, 35049.35552788, 35037.37104547,\n",
       "       35443.56247542, 35655.27735443, 36693.12499892, 37313.96873453,\n",
       "       37138.05079684, 37054.51951935, 36502.3554695 , 35537.64065556,\n",
       "       37880.58204813, 36154.76952736, 36596.68359441, 36585.70312414,\n",
       "       37386.54687299, 37476.95704349, 35813.81247617, 37432.33982295,\n",
       "       37289.62110009, 37720.28122741, 37796.79292631, 37479.12110263,\n",
       "       37254.16799648, 37831.08598504, 37858.49224059, 37712.746062  ,\n",
       "       38688.75004436, 39476.33204774, 39978.39051019, 41980.09769013,\n",
       "       44080.64843446, 43746.44524131, 43292.66420071, 44166.60134384,\n",
       "       43725.98445319, 43779.69918228, 41243.83197127, 41450.22259395,\n",
       "       42890.74236059, 43023.97268356, 41929.7577852 , 42240.11721827,\n",
       "       41364.66403873, 42623.53917728, 42270.52757249, 43652.25000426,\n",
       "       43869.15239214, 43997.90250431, 43739.54295728, 43016.11710541,\n",
       "       43613.14050164, 42520.4025302 , 43442.8555545 , 42627.85534545,\n",
       "       42099.40231423, 42156.90251727, 42265.18749582, 44167.33193107,\n",
       "       44957.96854957, 42848.17601249, 44179.92193179, 44162.69147995,\n",
       "       43989.1952081 , 43943.09759783, 46970.50444464, 46139.73061271,\n",
       "       46627.77700947, 46368.58638552, 42853.16790595, 42842.38291742,\n",
       "       41796.26944815, 42511.96900051, 43154.94551913, 42742.65259937,\n",
       "       41262.05862906, 41618.4064917 , 41665.58613154, 41545.78503403,\n",
       "       39507.36706763, 39845.55073906, 40077.07410585, 39933.80866474,\n",
       "       41816.87092184, 42120.05484755, 42035.59353115, 43288.24591329,\n",
       "       42952.60924822, 42582.60565092, 43075.77321977, 43185.8594082 ,\n",
       "       42992.24998825, 42583.58230211, 42658.66820163, 43084.67171799,\n",
       "       44318.22291041, 45301.56617117, 47147.1990047 , 47771.27694256,\n",
       "       48293.91786713, 49958.22275092, 49742.44150212, 51826.69553399,\n",
       "       51938.55522972, 52160.20290391, 51662.99619254, 52122.54697114,\n",
       "       51779.14489706, 52284.87530725, 51839.18015632, 51304.97259635,\n",
       "       50731.94885503, 51571.1018979 , 51733.23794561, 54522.40273899,\n",
       "       57085.37120575, 62504.78801963, 61198.38288527, 62440.63322609,\n",
       "       62029.84873812, 63167.37034918, 68330.41350967, 63801.19850332,\n",
       "       66106.80362899, 66925.48501998, 68300.0927814 , 68498.88203769,\n",
       "       69019.78802127, 72123.90707108, 71481.29014261, 73083.5       ,\n",
       "       71396.5941692 , 69403.77380895, 65315.1164858 , 68390.6247617 ,\n",
       "       67548.59282489, 61912.77444204, 67913.67134081, 65491.39170508,\n",
       "       63778.76268532, 64062.20228727, 67234.17197862, 69958.81152456,\n",
       "       69987.835121  , 69455.34403364, 70744.95380938, 69892.8272754 ,\n",
       "       69645.3054061 , 71333.64742474, 69702.1488954 , 65446.97200111,\n",
       "       65980.81236631, 68508.8440971 , 67837.64029497])"
      ]
     },
     "execution_count": 61,
     "metadata": {},
     "output_type": "execute_result"
    }
   ],
   "source": [
    "dummies = np.zeros((X_test.shape[0], lookback+1))\n",
    "dummies[:, 0] = y_test.flatten()\n",
    "dummies = scaler.inverse_transform(dummies)\n",
    "\n",
    "new_y_test = dc(dummies[:, 0])\n",
    "new_y_test"
   ]
  },
  {
   "cell_type": "code",
   "execution_count": 62,
   "id": "bc71a78d",
   "metadata": {},
   "outputs": [
    {
     "data": {
      "image/png": "[encoded data removed]",
      "text/plain": [
       "<Figure size 640x480 with 1 Axes>"
      ]
     },
     "metadata": {},
     "output_type": "display_data"
    }
   ],
   "source": [
    "plt.plot(new_y_test, label='Actual Close')\n",
    "plt.plot(test_predictions, label='Predicted Close')\n",
    "plt.xlabel('Day')\n",
    "plt.ylabel('Close')\n",
    "plt.legend()\n",
    "plt.show()"
   ]
  },
  {
   "cell_type": "code",
   "execution_count": 67,
   "id": "99685425",
   "metadata": {},
   "outputs": [
    {
     "name": "stdout",
     "output_type": "stream",
     "text": [
      "RMSE: 4595.60400390625, MSE: 21119577.41646612, MAE: 2794.0019546912317, MAPE: 0.0484001323797412%, R^2: -2.0625599078715764\n"
     ]
    }
   ],
   "source": [
    "# Model evaluation\n",
    "\n",
    "#test_loader = DataLoader(test_dataset, batch_size=batch_size, shuffle=False)\n",
    "\n",
    "model.eval()  # Set the model to evaluation mode\n",
    "\n",
    "mse_loss = nn.MSELoss()\n",
    "mae_loss = nn.L1Loss()  # For Mean Absolute Error\n",
    "\n",
    "total_mse = 0.0\n",
    "total_mae = 0.0\n",
    "total_mape = 0.0  # For MAPE calculation\n",
    "total_count = 0\n",
    "ss_tot = 0.0  # Total sum of squares for R-squared\n",
    "ss_res = 0.0  # Residual sum of squares for R-squared\n",
    "\n",
    "with torch.no_grad():  # Disable gradient computation\n",
    "    for inputs, actuals in test_loader:\n",
    "        inputs, actuals = inputs.to(device), actuals.to(device)\n",
    "\n",
    "        # Get model predictions\n",
    "        predictions = model(inputs).detach().cpu().numpy().flatten()\n",
    "\n",
    "        # Prepare dummy array for inverse transform\n",
    "        dummies_pred = np.zeros((inputs.shape[0], lookback + 1))\n",
    "        dummies_pred[:, 0] = predictions\n",
    "        predictions_reverted = scaler.inverse_transform(dummies_pred)[:, 0]\n",
    "\n",
    "        # Repeat process for actual values\n",
    "        actuals_numpy = actuals.cpu().numpy().flatten()  # Ensure actuals are flat\n",
    "        dummies_actual = np.zeros((actuals.shape[0], lookback + 1))\n",
    "        dummies_actual[:, 0] = actuals_numpy\n",
    "        actuals_reverted = scaler.inverse_transform(dummies_actual)[:, 0]\n",
    "\n",
    "        # Convert reverted data back to tensors\n",
    "        predictions_reverted = torch.tensor(predictions_reverted).to(device)\n",
    "        actuals_reverted = torch.tensor(actuals_reverted).to(device)\n",
    "\n",
    "        # Calculate MSE and MAE\n",
    "        mse = mse_loss(predictions_reverted, actuals_reverted)\n",
    "        mae = mae_loss(predictions_reverted, actuals_reverted)\n",
    "        total_mse += mse.item() * actuals_reverted.size(0)\n",
    "        total_mae += mae.item() * actuals_reverted.size(0)\n",
    "\n",
    "        # Calculate MAPE (avoid division by zero)\n",
    "        mape = torch.mean(torch.abs((actuals_reverted - predictions_reverted) / torch.clamp(actuals_reverted, min=1e-8)))\n",
    "        total_mape += mape.item() * actuals_reverted.size(0)\n",
    "\n",
    "        # For R-squared\n",
    "        total_count += actuals_reverted.size(0)\n",
    "        ss_tot += torch.sum((actuals_reverted - torch.mean(actuals_reverted))**2)\n",
    "        ss_res += torch.sum((actuals_reverted - predictions_reverted)**2)\n",
    "\n",
    "# Calculate average MSE, MAE, MAPE\n",
    "average_mse = total_mse / total_count\n",
    "average_mae = total_mae / total_count\n",
    "average_mape = total_mape / total_count\n",
    "\n",
    "# Calculate RMSE\n",
    "rmse = torch.sqrt(torch.tensor(average_mse))\n",
    "\n",
    "# Calculate R-squared\n",
    "r_squared = 1 - (ss_res / ss_tot)\n",
    "\n",
    "print(f'RMSE: {rmse.item()}, MSE: {average_mse}, MAE: {average_mae}, MAPE: {average_mape}%, R^2: {r_squared.item()}')"
   ]
  }
 ],
 "metadata": {
  "kernelspec": {
   "display_name": "Python 3 (ipykernel)",
   "language": "python",
   "name": "python3"
  },
  "language_info": {
   "codemirror_mode": {
    "name": "ipython",
    "version": 3
   },
   "file_extension": ".py",
   "mimetype": "text/x-python",
   "name": "python",
   "nbconvert_exporter": "python",
   "pygments_lexer": "ipython3",
   "version": "3.11.5"
  }
 },
 "nbformat": 4,
 "nbformat_minor": 5
}
